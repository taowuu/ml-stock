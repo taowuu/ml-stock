{
 "cells": [
  {
   "cell_type": "markdown",
   "metadata": {},
   "source": [
    "# 任务分析\n",
    "- 使用微软股价数据集训练模型\n",
    "- 模型调参选择最优模型\n",
    "- 对预测结果进行可视化\n",
    "- 分析预测结果"
   ]
  },
  {
   "cell_type": "code",
   "execution_count": null,
   "metadata": {},
   "outputs": [],
   "source": [
    "# 用训练得出的模型进行预测\n",
    "diabetes_y_pred = regr.predict(X_test)\n",
    "\n",
    "#判断预测是否准确（ErrorTolerance=10%）\n",
    "def judge(predict,aim):\n",
    "    comRes =abs(predict-aim)/aim\n",
    "    if comRes <0.1 :\n",
    "        return True\n",
    "    else:\n",
    "        return False\n",
    "\n",
    "#计算预测准确率\n",
    "def getScore(diabetes_y_pred,y_test):\n",
    "    size = len(y_test)\n",
    "    rightCount = 0\n",
    "    for i in range(0, size):  \n",
    "        if judge(diabetes_y_pred[i],y_test[i]):\n",
    "            rightCount=rightCount+1\n",
    "\n",
    "    return rightCount/size\n",
    "accuracy1 = getScore(diabetes_y_pred,y_test) ;\n",
    "print(\"accuracy1=\",accuracy1*100,'%')"
   ]
  },
  {
   "cell_type": "code",
   "execution_count": 2,
   "metadata": {},
   "outputs": [],
   "source": [
    "import matplotlib.pyplot as plt\n",
    "import numpy as np\n",
    "from sklearn import datasets, linear_model,model_selection\n",
    "from sklearn.metrics import mean_squared_error, r2_score\n",
    "import pandas as pd"
   ]
  },
  {
   "cell_type": "markdown",
   "metadata": {},
   "source": [
    "# 数据导入"
   ]
  },
  {
   "cell_type": "code",
   "execution_count": 3,
   "metadata": {},
   "outputs": [
    {
     "data": {
      "text/html": [
       "<div>\n",
       "<style scoped>\n",
       "    .dataframe tbody tr th:only-of-type {\n",
       "        vertical-align: middle;\n",
       "    }\n",
       "\n",
       "    .dataframe tbody tr th {\n",
       "        vertical-align: top;\n",
       "    }\n",
       "\n",
       "    .dataframe thead th {\n",
       "        text-align: right;\n",
       "    }\n",
       "</style>\n",
       "<table border=\"1\" class=\"dataframe\">\n",
       "  <thead>\n",
       "    <tr style=\"text-align: right;\">\n",
       "      <th></th>\n",
       "      <th>Date</th>\n",
       "      <th>High Price</th>\n",
       "      <th>Low Price</th>\n",
       "      <th>Open Price</th>\n",
       "      <th>Close Price</th>\n",
       "      <th>Volume</th>\n",
       "    </tr>\n",
       "  </thead>\n",
       "  <tbody>\n",
       "    <tr>\n",
       "      <th>0</th>\n",
       "      <td>2014-09-09 00:00:00</td>\n",
       "      <td>46.970001</td>\n",
       "      <td>46.419998</td>\n",
       "      <td>46.470001</td>\n",
       "      <td>46.759998</td>\n",
       "      <td>40302400.0</td>\n",
       "    </tr>\n",
       "    <tr>\n",
       "      <th>1</th>\n",
       "      <td>2014-09-10 00:00:00</td>\n",
       "      <td>46.939999</td>\n",
       "      <td>46.279999</td>\n",
       "      <td>46.820000</td>\n",
       "      <td>46.840000</td>\n",
       "      <td>27302400.0</td>\n",
       "    </tr>\n",
       "    <tr>\n",
       "      <th>2</th>\n",
       "      <td>2014-09-11 00:00:00</td>\n",
       "      <td>47.000000</td>\n",
       "      <td>46.470001</td>\n",
       "      <td>46.740002</td>\n",
       "      <td>47.000000</td>\n",
       "      <td>29216400.0</td>\n",
       "    </tr>\n",
       "    <tr>\n",
       "      <th>3</th>\n",
       "      <td>2014-09-12 00:00:00</td>\n",
       "      <td>47.020000</td>\n",
       "      <td>46.599998</td>\n",
       "      <td>46.910000</td>\n",
       "      <td>46.700001</td>\n",
       "      <td>38244700.0</td>\n",
       "    </tr>\n",
       "    <tr>\n",
       "      <th>4</th>\n",
       "      <td>2014-09-15 00:00:00</td>\n",
       "      <td>46.709999</td>\n",
       "      <td>46.099998</td>\n",
       "      <td>46.540001</td>\n",
       "      <td>46.240002</td>\n",
       "      <td>37667600.0</td>\n",
       "    </tr>\n",
       "  </tbody>\n",
       "</table>\n",
       "</div>"
      ],
      "text/plain": [
       "                  Date  High Price  Low Price  Open Price  Close Price  \\\n",
       "0  2014-09-09 00:00:00   46.970001  46.419998   46.470001    46.759998   \n",
       "1  2014-09-10 00:00:00   46.939999  46.279999   46.820000    46.840000   \n",
       "2  2014-09-11 00:00:00   47.000000  46.470001   46.740002    47.000000   \n",
       "3  2014-09-12 00:00:00   47.020000  46.599998   46.910000    46.700001   \n",
       "4  2014-09-15 00:00:00   46.709999  46.099998   46.540001    46.240002   \n",
       "\n",
       "       Volume  \n",
       "0  40302400.0  \n",
       "1  27302400.0  \n",
       "2  29216400.0  \n",
       "3  38244700.0  \n",
       "4  37667600.0  "
      ]
     },
     "execution_count": 3,
     "metadata": {},
     "output_type": "execute_result"
    }
   ],
   "source": [
    "data = pd.read_csv('msft_stockprices_dataset.csv', delimiter=',')\n",
    "data.head()"
   ]
  },
  {
   "cell_type": "markdown",
   "metadata": {},
   "source": [
    "# 数据探索\n",
    "- Date 日期\n",
    "- High Price 当日最高价\n",
    "- Low Price 当日最低价\n",
    "- Open Price 开盘价\n",
    "- Close Price 收盘价\n",
    "- Volume 成交量"
   ]
  },
  {
   "cell_type": "markdown",
   "metadata": {},
   "source": [
    "# 特征工程"
   ]
  },
  {
   "cell_type": "markdown",
   "metadata": {},
   "source": [
    "## 特征选择"
   ]
  },
  {
   "cell_type": "code",
   "execution_count": 5,
   "metadata": {},
   "outputs": [],
   "source": [
    "features = [ \"High Price\", \"Low Price\" , \"Open Price\" ,\"Volume\"]"
   ]
  },
  {
   "cell_type": "markdown",
   "metadata": {},
   "source": [
    "## 划分特征数据集为 训练集 80% 和 测试集 20%"
   ]
  },
  {
   "cell_type": "code",
   "execution_count": 12,
   "metadata": {},
   "outputs": [],
   "source": [
    "X = np.array(data[features])\n",
    "y = np.array(data[\"Close Price\"])\n",
    "X_train,X_test,y_train,y_test = model_selection.train_test_split(X,y,test_size = 0.2)"
   ]
  },
  {
   "cell_type": "markdown",
   "metadata": {},
   "source": [
    "# 建立模型"
   ]
  },
  {
   "cell_type": "markdown",
   "metadata": {},
   "source": [
    "## # 创建线性回归模型"
   ]
  },
  {
   "cell_type": "code",
   "execution_count": 14,
   "metadata": {},
   "outputs": [
    {
     "data": {
      "text/plain": [
       "LinearRegression(copy_X=True, fit_intercept=True, n_jobs=1, normalize=False)"
      ]
     },
     "execution_count": 14,
     "metadata": {},
     "output_type": "execute_result"
    }
   ],
   "source": [
    "lin_reg = linear_model.LinearRegression()\n",
    "# 用训练集训练模型\n",
    "lin_reg.fit(X_train, y_train)"
   ]
  },
  {
   "cell_type": "markdown",
   "metadata": {},
   "source": [
    "# 模型调参"
   ]
  },
  {
   "cell_type": "code",
   "execution_count": 18,
   "metadata": {},
   "outputs": [
    {
     "name": "stdout",
     "output_type": "stream",
     "text": [
      "线性回归得分 = 0.9995636339611229\n"
     ]
    }
   ],
   "source": [
    "accuracy = lin_reg.score(X_test,y_test)\n",
    "print(\"线性回归得分 = {}\".format(accuracy))"
   ]
  },
  {
   "cell_type": "markdown",
   "metadata": {},
   "source": [
    "# 模型使用"
   ]
  },
  {
   "cell_type": "code",
   "execution_count": 20,
   "metadata": {},
   "outputs": [],
   "source": [
    "# 使用训练得出的模型进行预测\n",
    "y_pred = lin_reg.predict(X_test)"
   ]
  },
  {
   "cell_type": "markdown",
   "metadata": {},
   "source": [
    "# 结果可视化"
   ]
  },
  {
   "cell_type": "code",
   "execution_count": 42,
   "metadata": {},
   "outputs": [
    {
     "data": {
      "image/png": "[encoded data removed]",
      "text/plain": [
       "<Figure size 432x288 with 1 Axes>"
      ]
     },
     "metadata": {},
     "output_type": "display_data"
    }
   ],
   "source": [
    "# 测试结果可视化\n",
    "xpos = [i for i in range(len(y_test))]\n",
    "plt.plot(xpos[:100], y_test[:100], color='red', linewidth=1, label='close price')\n",
    "plt.plot(xpos[:100], y_pred[:100], color='green', linewidth=1, label='predict close price')\n",
    "# plt.xticks(())\n",
    "# plt.yticks(())\n",
    "plt.legend(loc='upper right')\n",
    "plt.show()"
   ]
  },
  {
   "cell_type": "markdown",
   "metadata": {},
   "source": [
    "# 结论分析"
   ]
  },
  {
   "cell_type": "code",
   "execution_count": null,
   "metadata": {},
   "outputs": [],
   "source": []
  }
 ],
 "metadata": {
  "kernelspec": {
   "display_name": "Python 3",
   "language": "python",
   "name": "python3"
  },
  "language_info": {
   "codemirror_mode": {
    "name": "ipython",
    "version": 3
   },
   "file_extension": ".py",
   "mimetype": "text/x-python",
   "name": "python",
   "nbconvert_exporter": "python",
   "pygments_lexer": "ipython3",
   "version": "3.6.5"
  }
 },
 "nbformat": 4,
 "nbformat_minor": 2
}
