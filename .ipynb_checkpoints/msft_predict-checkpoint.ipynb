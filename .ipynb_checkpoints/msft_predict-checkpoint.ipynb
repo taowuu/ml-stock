{
 "cells": [
  {
   "cell_type": "markdown",
   "metadata": {},
   "source": [
    "# 任务分析\n",
    "- 使用微软 14-18 年股票数据集训练模型\n",
    "- 模型 对比，调参 选择最优模型\n",
    "- 使用模型预测 19-22 年收盘价\n",
    "- 对预测结果进行可视化\n",
    "- 分析预测结果"
   ]
  },
  {
   "cell_type": "markdown",
   "metadata": {},
   "source": [
    "# 依赖导入"
   ]
  },
  {
   "cell_type": "code",
   "execution_count": 5,
   "metadata": {},
   "outputs": [],
   "source": [
    "from IPython.core.interactiveshell import InteractiveShell\n",
    "InteractiveShell.ast_node_interactivity = \"all\"\n",
    "import matplotlib.pyplot as plt\n",
    "import numpy as np\n",
    "from sklearn import linear_model,model_selection\n",
    "import pandas as pd\n",
    "from sklearn.model_selection import GridSearchCV"
   ]
  },
  {
   "cell_type": "markdown",
   "metadata": {},
   "source": [
    "# 数据导入"
   ]
  },
  {
   "cell_type": "code",
   "execution_count": 6,
   "metadata": {},
   "outputs": [
    {
     "data": {
      "text/html": [
       "<div>\n",
       "<style scoped>\n",
       "    .dataframe tbody tr th:only-of-type {\n",
       "        vertical-align: middle;\n",
       "    }\n",
       "\n",
       "    .dataframe tbody tr th {\n",
       "        vertical-align: top;\n",
       "    }\n",
       "\n",
       "    .dataframe thead th {\n",
       "        text-align: right;\n",
       "    }\n",
       "</style>\n",
       "<table border=\"1\" class=\"dataframe\">\n",
       "  <thead>\n",
       "    <tr style=\"text-align: right;\">\n",
       "      <th></th>\n",
       "      <th>Date</th>\n",
       "      <th>High Price</th>\n",
       "      <th>Low Price</th>\n",
       "      <th>Open Price</th>\n",
       "      <th>Close Price</th>\n",
       "      <th>Volume</th>\n",
       "    </tr>\n",
       "  </thead>\n",
       "  <tbody>\n",
       "    <tr>\n",
       "      <th>0</th>\n",
       "      <td>2014-09-09 00:00:00</td>\n",
       "      <td>46.970001</td>\n",
       "      <td>46.419998</td>\n",
       "      <td>46.470001</td>\n",
       "      <td>46.759998</td>\n",
       "      <td>40302400.0</td>\n",
       "    </tr>\n",
       "    <tr>\n",
       "      <th>1</th>\n",
       "      <td>2014-09-10 00:00:00</td>\n",
       "      <td>46.939999</td>\n",
       "      <td>46.279999</td>\n",
       "      <td>46.820000</td>\n",
       "      <td>46.840000</td>\n",
       "      <td>27302400.0</td>\n",
       "    </tr>\n",
       "    <tr>\n",
       "      <th>2</th>\n",
       "      <td>2014-09-11 00:00:00</td>\n",
       "      <td>47.000000</td>\n",
       "      <td>46.470001</td>\n",
       "      <td>46.740002</td>\n",
       "      <td>47.000000</td>\n",
       "      <td>29216400.0</td>\n",
       "    </tr>\n",
       "    <tr>\n",
       "      <th>3</th>\n",
       "      <td>2014-09-12 00:00:00</td>\n",
       "      <td>47.020000</td>\n",
       "      <td>46.599998</td>\n",
       "      <td>46.910000</td>\n",
       "      <td>46.700001</td>\n",
       "      <td>38244700.0</td>\n",
       "    </tr>\n",
       "    <tr>\n",
       "      <th>4</th>\n",
       "      <td>2014-09-15 00:00:00</td>\n",
       "      <td>46.709999</td>\n",
       "      <td>46.099998</td>\n",
       "      <td>46.540001</td>\n",
       "      <td>46.240002</td>\n",
       "      <td>37667600.0</td>\n",
       "    </tr>\n",
       "  </tbody>\n",
       "</table>\n",
       "</div>"
      ],
      "text/plain": [
       "                  Date  High Price  Low Price  Open Price  Close Price  \\\n",
       "0  2014-09-09 00:00:00   46.970001  46.419998   46.470001    46.759998   \n",
       "1  2014-09-10 00:00:00   46.939999  46.279999   46.820000    46.840000   \n",
       "2  2014-09-11 00:00:00   47.000000  46.470001   46.740002    47.000000   \n",
       "3  2014-09-12 00:00:00   47.020000  46.599998   46.910000    46.700001   \n",
       "4  2014-09-15 00:00:00   46.709999  46.099998   46.540001    46.240002   \n",
       "\n",
       "       Volume  \n",
       "0  40302400.0  \n",
       "1  27302400.0  \n",
       "2  29216400.0  \n",
       "3  38244700.0  \n",
       "4  37667600.0  "
      ]
     },
     "execution_count": 6,
     "metadata": {},
     "output_type": "execute_result"
    }
   ],
   "source": [
    "data = pd.read_csv('ms_14-18.csv', delimiter=',')\n",
    "data.head()"
   ]
  },
  {
   "cell_type": "markdown",
   "metadata": {},
   "source": [
    "# 数据探索\n",
    "- Date 日期\n",
    "- High Price 当日最高价\n",
    "- Low Price 当日最低价\n",
    "- Open Price 开盘价\n",
    "- Close Price 收盘价\n",
    "- Volume 成交量"
   ]
  },
  {
   "cell_type": "markdown",
   "metadata": {},
   "source": [
    "# 特征工程"
   ]
  },
  {
   "cell_type": "markdown",
   "metadata": {},
   "source": [
    "- 特征选择"
   ]
  },
  {
   "cell_type": "code",
   "execution_count": 7,
   "metadata": {},
   "outputs": [],
   "source": [
    "features = [ \"High Price\", \"Low Price\" , \"Open Price\" ,\"Volume\"]"
   ]
  },
  {
   "cell_type": "markdown",
   "metadata": {},
   "source": [
    "- 划分特征数据集为训练集和测试集"
   ]
  },
  {
   "cell_type": "code",
   "execution_count": 8,
   "metadata": {},
   "outputs": [],
   "source": [
    "X = np.array(data[features])\n",
    "y = np.array(data[\"Close Price\"])\n",
    "X_train,X_test,y_train,y_test = model_selection.train_test_split(X,y,test_size = 0.1)"
   ]
  },
  {
   "cell_type": "markdown",
   "metadata": {},
   "source": [
    "# 建立模型"
   ]
  },
  {
   "cell_type": "markdown",
   "metadata": {},
   "source": [
    "- 创建 线性回归，岭回归，逻辑回归 模型\n",
    "- 用训练集训练模型"
   ]
  },
  {
   "cell_type": "code",
   "execution_count": 9,
   "metadata": {},
   "outputs": [
    {
     "data": {
      "text/plain": [
       "LinearRegression(copy_X=True, fit_intercept=True, n_jobs=1, normalize=False)"
      ]
     },
     "execution_count": 9,
     "metadata": {},
     "output_type": "execute_result"
    },
    {
     "data": {
      "text/plain": [
       "Ridge(alpha=1.0, copy_X=True, fit_intercept=True, max_iter=None,\n",
       "   normalize=False, random_state=None, solver='auto', tol=0.001)"
      ]
     },
     "execution_count": 9,
     "metadata": {},
     "output_type": "execute_result"
    },
    {
     "data": {
      "text/plain": [
       "LogisticRegression(C=1.0, class_weight=None, dual=False, fit_intercept=True,\n",
       "          intercept_scaling=1, max_iter=100, multi_class='ovr', n_jobs=1,\n",
       "          penalty='l2', random_state=None, solver='liblinear', tol=0.0001,\n",
       "          verbose=0, warm_start=False)"
      ]
     },
     "execution_count": 9,
     "metadata": {},
     "output_type": "execute_result"
    }
   ],
   "source": [
    "lin_reg = linear_model.LinearRegression()\n",
    "lin_reg.fit(X_train, y_train)\n",
    "\n",
    "rid_reg = linear_model.Ridge()\n",
    "rid_reg.fit(X_train, y_train)\n",
    "\n",
    "log_reg = linear_model.LogisticRegression()\n",
    "log_reg.fit(X_train, y_train.astype('int'))"
   ]
  },
  {
   "cell_type": "markdown",
   "metadata": {},
   "source": [
    "- 选择最优模型"
   ]
  },
  {
   "cell_type": "code",
   "execution_count": 10,
   "metadata": {},
   "outputs": [
    {
     "name": "stdout",
     "output_type": "stream",
     "text": [
      "线性回归 准确率： 0.9997195697970669\n",
      "岭回归 准确率： 0.9997205693545149\n",
      "逻辑回归 准确率： 0.06930693069306931\n"
     ]
    }
   ],
   "source": [
    "print('线性回归 准确率：', lin_reg.score(X_test, y_test))\n",
    "print('岭回归 准确率：', rid_reg.score(X_test, y_test))\n",
    "print('逻辑回归 准确率：', log_reg.score(X_test, y_test.astype('int')))"
   ]
  },
  {
   "cell_type": "code",
   "execution_count": 11,
   "metadata": {},
   "outputs": [],
   "source": [
    "best_model = rid_reg"
   ]
  },
  {
   "cell_type": "markdown",
   "metadata": {},
   "source": [
    "# 模型调参"
   ]
  },
  {
   "cell_type": "markdown",
   "metadata": {},
   "source": [
    "- 使用 网格搜索 对 岭回归 进行调参"
   ]
  },
  {
   "cell_type": "code",
   "execution_count": 12,
   "metadata": {},
   "outputs": [
    {
     "data": {
      "text/plain": [
       "Ridge(alpha=1e-15, copy_X=True, fit_intercept=True, max_iter=None,\n",
       "   normalize=False, random_state=None, solver='auto', tol=0.001)"
      ]
     },
     "execution_count": 12,
     "metadata": {},
     "output_type": "execute_result"
    }
   ],
   "source": [
    "param={'alpha':[1e-15,1e-10,1e-8,1e-3,1e-2,1,5,10,20,30,35,40,45,50,55,100]}\n",
    "\n",
    "grid = GridSearchCV(best_model, param, cv=5)\n",
    "\n",
    "best_model = grid.fit(X_train, y_train).best_estimator_\n",
    "\n",
    "grid.fit(X_train, y_train).best_estimator_"
   ]
  },
  {
   "cell_type": "markdown",
   "metadata": {},
   "source": [
    "# 模型使用"
   ]
  },
  {
   "cell_type": "markdown",
   "metadata": {},
   "source": [
    "- 载入 19 - 22 年股票数据选取 特征数据集\n",
    "- 使用 最佳模型 对特征数据集进行预测"
   ]
  },
  {
   "cell_type": "code",
   "execution_count": 13,
   "metadata": {},
   "outputs": [
    {
     "data": {
      "text/html": [
       "<div>\n",
       "<style scoped>\n",
       "    .dataframe tbody tr th:only-of-type {\n",
       "        vertical-align: middle;\n",
       "    }\n",
       "\n",
       "    .dataframe tbody tr th {\n",
       "        vertical-align: top;\n",
       "    }\n",
       "\n",
       "    .dataframe thead th {\n",
       "        text-align: right;\n",
       "    }\n",
       "</style>\n",
       "<table border=\"1\" class=\"dataframe\">\n",
       "  <thead>\n",
       "    <tr style=\"text-align: right;\">\n",
       "      <th></th>\n",
       "      <th>Date</th>\n",
       "      <th>Open</th>\n",
       "      <th>High</th>\n",
       "      <th>Low</th>\n",
       "      <th>Close</th>\n",
       "      <th>Adj Close</th>\n",
       "      <th>Volume</th>\n",
       "      <th>Stock</th>\n",
       "      <th>SMA_50</th>\n",
       "      <th>T_SMA_50</th>\n",
       "      <th>...</th>\n",
       "      <th>EMA_21</th>\n",
       "      <th>T_EMA_21</th>\n",
       "      <th>EMA_50</th>\n",
       "      <th>T_EMA_50</th>\n",
       "      <th>EMA_200</th>\n",
       "      <th>T_EMA_200</th>\n",
       "      <th>MACD</th>\n",
       "      <th>SIGNAL</th>\n",
       "      <th>HIST</th>\n",
       "      <th>RSI</th>\n",
       "    </tr>\n",
       "  </thead>\n",
       "  <tbody>\n",
       "    <tr>\n",
       "      <th>0</th>\n",
       "      <td>2019-06-03</td>\n",
       "      <td>123.849998</td>\n",
       "      <td>124.370003</td>\n",
       "      <td>119.010002</td>\n",
       "      <td>119.839996</td>\n",
       "      <td>115.725883</td>\n",
       "      <td>37983600</td>\n",
       "      <td>MSFT</td>\n",
       "      <td>NaN</td>\n",
       "      <td>False</td>\n",
       "      <td>...</td>\n",
       "      <td>120.0</td>\n",
       "      <td>False</td>\n",
       "      <td>120.0</td>\n",
       "      <td>False</td>\n",
       "      <td>120.0</td>\n",
       "      <td>False</td>\n",
       "      <td>0.000000</td>\n",
       "      <td>0.000000</td>\n",
       "      <td>0.000000</td>\n",
       "      <td>NaN</td>\n",
       "    </tr>\n",
       "    <tr>\n",
       "      <th>1</th>\n",
       "      <td>2019-06-04</td>\n",
       "      <td>121.279999</td>\n",
       "      <td>123.279999</td>\n",
       "      <td>120.650002</td>\n",
       "      <td>123.160004</td>\n",
       "      <td>118.931908</td>\n",
       "      <td>29382600</td>\n",
       "      <td>MSFT</td>\n",
       "      <td>NaN</td>\n",
       "      <td>False</td>\n",
       "      <td>...</td>\n",
       "      <td>120.0</td>\n",
       "      <td>True</td>\n",
       "      <td>120.0</td>\n",
       "      <td>True</td>\n",
       "      <td>120.0</td>\n",
       "      <td>True</td>\n",
       "      <td>0.264844</td>\n",
       "      <td>0.052969</td>\n",
       "      <td>0.211875</td>\n",
       "      <td>NaN</td>\n",
       "    </tr>\n",
       "    <tr>\n",
       "      <th>2</th>\n",
       "      <td>2019-06-05</td>\n",
       "      <td>124.949997</td>\n",
       "      <td>125.870003</td>\n",
       "      <td>124.209999</td>\n",
       "      <td>125.830002</td>\n",
       "      <td>121.510231</td>\n",
       "      <td>24926100</td>\n",
       "      <td>MSFT</td>\n",
       "      <td>NaN</td>\n",
       "      <td>False</td>\n",
       "      <td>...</td>\n",
       "      <td>121.0</td>\n",
       "      <td>True</td>\n",
       "      <td>120.0</td>\n",
       "      <td>True</td>\n",
       "      <td>120.0</td>\n",
       "      <td>True</td>\n",
       "      <td>0.682316</td>\n",
       "      <td>0.178838</td>\n",
       "      <td>0.503478</td>\n",
       "      <td>NaN</td>\n",
       "    </tr>\n",
       "    <tr>\n",
       "      <th>3</th>\n",
       "      <td>2019-06-06</td>\n",
       "      <td>126.440002</td>\n",
       "      <td>127.970001</td>\n",
       "      <td>125.599998</td>\n",
       "      <td>127.820000</td>\n",
       "      <td>123.431931</td>\n",
       "      <td>21459000</td>\n",
       "      <td>MSFT</td>\n",
       "      <td>NaN</td>\n",
       "      <td>False</td>\n",
       "      <td>...</td>\n",
       "      <td>121.0</td>\n",
       "      <td>True</td>\n",
       "      <td>120.0</td>\n",
       "      <td>True</td>\n",
       "      <td>120.0</td>\n",
       "      <td>True</td>\n",
       "      <td>1.160366</td>\n",
       "      <td>0.375144</td>\n",
       "      <td>0.785222</td>\n",
       "      <td>NaN</td>\n",
       "    </tr>\n",
       "    <tr>\n",
       "      <th>4</th>\n",
       "      <td>2019-06-07</td>\n",
       "      <td>129.190002</td>\n",
       "      <td>132.250000</td>\n",
       "      <td>128.259995</td>\n",
       "      <td>131.399994</td>\n",
       "      <td>126.889038</td>\n",
       "      <td>33885600</td>\n",
       "      <td>MSFT</td>\n",
       "      <td>NaN</td>\n",
       "      <td>False</td>\n",
       "      <td>...</td>\n",
       "      <td>122.0</td>\n",
       "      <td>True</td>\n",
       "      <td>121.0</td>\n",
       "      <td>True</td>\n",
       "      <td>120.0</td>\n",
       "      <td>True</td>\n",
       "      <td>1.807266</td>\n",
       "      <td>0.661568</td>\n",
       "      <td>1.145698</td>\n",
       "      <td>NaN</td>\n",
       "    </tr>\n",
       "  </tbody>\n",
       "</table>\n",
       "<p>5 rows × 29 columns</p>\n",
       "</div>"
      ],
      "text/plain": [
       "         Date        Open        High         Low       Close   Adj Close  \\\n",
       "0  2019-06-03  123.849998  124.370003  119.010002  119.839996  115.725883   \n",
       "1  2019-06-04  121.279999  123.279999  120.650002  123.160004  118.931908   \n",
       "2  2019-06-05  124.949997  125.870003  124.209999  125.830002  121.510231   \n",
       "3  2019-06-06  126.440002  127.970001  125.599998  127.820000  123.431931   \n",
       "4  2019-06-07  129.190002  132.250000  128.259995  131.399994  126.889038   \n",
       "\n",
       "     Volume Stock  SMA_50  T_SMA_50 ...   EMA_21  T_EMA_21  EMA_50  T_EMA_50  \\\n",
       "0  37983600  MSFT     NaN     False ...    120.0     False   120.0     False   \n",
       "1  29382600  MSFT     NaN     False ...    120.0      True   120.0      True   \n",
       "2  24926100  MSFT     NaN     False ...    121.0      True   120.0      True   \n",
       "3  21459000  MSFT     NaN     False ...    121.0      True   120.0      True   \n",
       "4  33885600  MSFT     NaN     False ...    122.0      True   121.0      True   \n",
       "\n",
       "   EMA_200  T_EMA_200      MACD    SIGNAL      HIST  RSI  \n",
       "0    120.0      False  0.000000  0.000000  0.000000  NaN  \n",
       "1    120.0       True  0.264844  0.052969  0.211875  NaN  \n",
       "2    120.0       True  0.682316  0.178838  0.503478  NaN  \n",
       "3    120.0       True  1.160366  0.375144  0.785222  NaN  \n",
       "4    120.0       True  1.807266  0.661568  1.145698  NaN  \n",
       "\n",
       "[5 rows x 29 columns]"
      ]
     },
     "execution_count": 13,
     "metadata": {},
     "output_type": "execute_result"
    }
   ],
   "source": [
    "data = pd.read_csv('ms_19-22.csv', delimiter=',')\n",
    "data.head()\n",
    "features = [ \"High\", \"Low\", \"Open\", \"Volume\"]\n",
    "X = np.array(data[features])\n",
    "y = np.array(data[\"Close\"])\n",
    "\n",
    "pred_y = best_model.predict(X)"
   ]
  },
  {
   "cell_type": "markdown",
   "metadata": {},
   "source": [
    "# 结果可视化"
   ]
  },
  {
   "cell_type": "markdown",
   "metadata": {},
   "source": [
    "- 定义预测准确率函数"
   ]
  },
  {
   "cell_type": "code",
   "execution_count": 14,
   "metadata": {},
   "outputs": [],
   "source": [
    "# 预测结果与实际值误差 < 0.01 认为准确\n",
    "def judge(predict, target):\n",
    "    diff = abs(predict - target) / target\n",
    "    if diff < 0.01:\n",
    "        return True\n",
    "    else:\n",
    "        return False\n",
    "\n",
    "# 获取准确率\n",
    "def get_accuracy(pred_y, y_test):\n",
    "    size = len(y_test)\n",
    "    count = 0\n",
    "    for i in range(0, size):  \n",
    "        if judge(pred_y[i], y_test[i]):\n",
    "            count += 1\n",
    "    return count / size"
   ]
  },
  {
   "cell_type": "markdown",
   "metadata": {},
   "source": [
    "- 预测得到准确率"
   ]
  },
  {
   "cell_type": "code",
   "execution_count": 15,
   "metadata": {},
   "outputs": [
    {
     "name": "stdout",
     "output_type": "stream",
     "text": [
      "预测准确率为： 0.8930602957906713\n"
     ]
    }
   ],
   "source": [
    "print('预测准确率为：', get_accuracy(pred_y, y))"
   ]
  },
  {
   "cell_type": "markdown",
   "metadata": {},
   "source": [
    "- 拟合结果可视化"
   ]
  },
  {
   "cell_type": "code",
   "execution_count": 29,
   "metadata": {},
   "outputs": [
    {
     "data": {
      "text/plain": [
       "<Figure size 864x432 with 0 Axes>"
      ]
     },
     "execution_count": 29,
     "metadata": {},
     "output_type": "execute_result"
    },
    {
     "data": {
      "text/plain": [
       "[<matplotlib.lines.Line2D at 0x1f1393216a0>]"
      ]
     },
     "execution_count": 29,
     "metadata": {},
     "output_type": "execute_result"
    },
    {
     "data": {
      "text/plain": [
       "[<matplotlib.lines.Line2D at 0x1f1392e54a8>]"
      ]
     },
     "execution_count": 29,
     "metadata": {},
     "output_type": "execute_result"
    },
    {
     "data": {
      "text/plain": [
       "<matplotlib.legend.Legend at 0x1f139336198>"
      ]
     },
     "execution_count": 29,
     "metadata": {},
     "output_type": "execute_result"
    },
    {
     "data": {
      "image/png": "[encoded data removed]",
      "text/plain": [
       "<Figure size 864x432 with 1 Axes>"
      ]
     },
     "metadata": {},
     "output_type": "display_data"
    }
   ],
   "source": [
    "x_axis = [i for i in range(len(y))]\n",
    "plt.figure(figsize=(12, 6))\n",
    "plt.plot(x_axis, y, color='red', linewidth=1, label='close price')\n",
    "plt.plot(x_axis, pred_y, color='green', linewidth=1, label='predict close price')\n",
    "plt.legend(loc='upper right')\n",
    "plt.show()"
   ]
  },
  {
   "cell_type": "markdown",
   "metadata": {},
   "source": [
    "# 结论分析"
   ]
  },
  {
   "cell_type": "markdown",
   "metadata": {},
   "source": [
    "- 虽然预测的结果误差不大，但是无法用于实际\n",
    "- 因为股价影响因素还有 经济周期，政策，情绪 等"
   ]
  }
 ],
 "metadata": {
  "kernelspec": {
   "display_name": "Python 3",
   "language": "python",
   "name": "python3"
  },
  "language_info": {
   "codemirror_mode": {
    "name": "ipython",
    "version": 3
   },
   "file_extension": ".py",
   "mimetype": "text/x-python",
   "name": "python",
   "nbconvert_exporter": "python",
   "pygments_lexer": "ipython3",
   "version": "3.6.5"
  }
 },
 "nbformat": 4,
 "nbformat_minor": 2
}
