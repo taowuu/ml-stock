{
 "cells": [
  {
   "cell_type": "markdown",
   "metadata": {},
   "source": [
    "# 任务分析\n",
    "- 使用微软 14-18 年股价数据集训练模型\n",
    "- 预测微软 19-22 年股价\n",
    "- 模型调参选择最优模型\n",
    "- 对预测结果进行可视化\n",
    "- 分析预测结果"
   ]
  },
  {
   "cell_type": "code",
   "execution_count": 44,
   "metadata": {},
   "outputs": [],
   "source": [
    "from IPython.core.interactiveshell import InteractiveShell\n",
    "InteractiveShell.ast_node_interactivity = \"all\"\n",
    "import matplotlib.pyplot as plt\n",
    "import numpy as np\n",
    "from sklearn import datasets, linear_model,model_selection\n",
    "import pandas as pd"
   ]
  },
  {
   "cell_type": "markdown",
   "metadata": {},
   "source": [
    "# 数据导入"
   ]
  },
  {
   "cell_type": "code",
   "execution_count": 45,
   "metadata": {},
   "outputs": [
    {
     "data": {
      "text/html": [
       "<div>\n",
       "<style scoped>\n",
       "    .dataframe tbody tr th:only-of-type {\n",
       "        vertical-align: middle;\n",
       "    }\n",
       "\n",
       "    .dataframe tbody tr th {\n",
       "        vertical-align: top;\n",
       "    }\n",
       "\n",
       "    .dataframe thead th {\n",
       "        text-align: right;\n",
       "    }\n",
       "</style>\n",
       "<table border=\"1\" class=\"dataframe\">\n",
       "  <thead>\n",
       "    <tr style=\"text-align: right;\">\n",
       "      <th></th>\n",
       "      <th>Date</th>\n",
       "      <th>High Price</th>\n",
       "      <th>Low Price</th>\n",
       "      <th>Open Price</th>\n",
       "      <th>Close Price</th>\n",
       "      <th>Volume</th>\n",
       "    </tr>\n",
       "  </thead>\n",
       "  <tbody>\n",
       "    <tr>\n",
       "      <th>0</th>\n",
       "      <td>2014-09-09 00:00:00</td>\n",
       "      <td>46.970001</td>\n",
       "      <td>46.419998</td>\n",
       "      <td>46.470001</td>\n",
       "      <td>46.759998</td>\n",
       "      <td>40302400.0</td>\n",
       "    </tr>\n",
       "    <tr>\n",
       "      <th>1</th>\n",
       "      <td>2014-09-10 00:00:00</td>\n",
       "      <td>46.939999</td>\n",
       "      <td>46.279999</td>\n",
       "      <td>46.820000</td>\n",
       "      <td>46.840000</td>\n",
       "      <td>27302400.0</td>\n",
       "    </tr>\n",
       "    <tr>\n",
       "      <th>2</th>\n",
       "      <td>2014-09-11 00:00:00</td>\n",
       "      <td>47.000000</td>\n",
       "      <td>46.470001</td>\n",
       "      <td>46.740002</td>\n",
       "      <td>47.000000</td>\n",
       "      <td>29216400.0</td>\n",
       "    </tr>\n",
       "    <tr>\n",
       "      <th>3</th>\n",
       "      <td>2014-09-12 00:00:00</td>\n",
       "      <td>47.020000</td>\n",
       "      <td>46.599998</td>\n",
       "      <td>46.910000</td>\n",
       "      <td>46.700001</td>\n",
       "      <td>38244700.0</td>\n",
       "    </tr>\n",
       "    <tr>\n",
       "      <th>4</th>\n",
       "      <td>2014-09-15 00:00:00</td>\n",
       "      <td>46.709999</td>\n",
       "      <td>46.099998</td>\n",
       "      <td>46.540001</td>\n",
       "      <td>46.240002</td>\n",
       "      <td>37667600.0</td>\n",
       "    </tr>\n",
       "  </tbody>\n",
       "</table>\n",
       "</div>"
      ],
      "text/plain": [
       "                  Date  High Price  Low Price  Open Price  Close Price  \\\n",
       "0  2014-09-09 00:00:00   46.970001  46.419998   46.470001    46.759998   \n",
       "1  2014-09-10 00:00:00   46.939999  46.279999   46.820000    46.840000   \n",
       "2  2014-09-11 00:00:00   47.000000  46.470001   46.740002    47.000000   \n",
       "3  2014-09-12 00:00:00   47.020000  46.599998   46.910000    46.700001   \n",
       "4  2014-09-15 00:00:00   46.709999  46.099998   46.540001    46.240002   \n",
       "\n",
       "       Volume  \n",
       "0  40302400.0  \n",
       "1  27302400.0  \n",
       "2  29216400.0  \n",
       "3  38244700.0  \n",
       "4  37667600.0  "
      ]
     },
     "execution_count": 45,
     "metadata": {},
     "output_type": "execute_result"
    },
    {
     "data": {
      "text/html": [
       "<div>\n",
       "<style scoped>\n",
       "    .dataframe tbody tr th:only-of-type {\n",
       "        vertical-align: middle;\n",
       "    }\n",
       "\n",
       "    .dataframe tbody tr th {\n",
       "        vertical-align: top;\n",
       "    }\n",
       "\n",
       "    .dataframe thead th {\n",
       "        text-align: right;\n",
       "    }\n",
       "</style>\n",
       "<table border=\"1\" class=\"dataframe\">\n",
       "  <thead>\n",
       "    <tr style=\"text-align: right;\">\n",
       "      <th></th>\n",
       "      <th>Date</th>\n",
       "      <th>High Price</th>\n",
       "      <th>Low Price</th>\n",
       "      <th>Open Price</th>\n",
       "      <th>Close Price</th>\n",
       "      <th>Volume</th>\n",
       "    </tr>\n",
       "  </thead>\n",
       "  <tbody>\n",
       "    <tr>\n",
       "      <th>1004</th>\n",
       "      <td>2018-09-04 00:00:00</td>\n",
       "      <td>111.959999</td>\n",
       "      <td>110.220001</td>\n",
       "      <td>110.849998</td>\n",
       "      <td>111.709999</td>\n",
       "      <td>22634600.0</td>\n",
       "    </tr>\n",
       "    <tr>\n",
       "      <th>1005</th>\n",
       "      <td>2018-09-05 00:00:00</td>\n",
       "      <td>111.419998</td>\n",
       "      <td>108.099998</td>\n",
       "      <td>111.010002</td>\n",
       "      <td>108.489998</td>\n",
       "      <td>32872400.0</td>\n",
       "    </tr>\n",
       "    <tr>\n",
       "      <th>1006</th>\n",
       "      <td>2018-09-06 00:00:00</td>\n",
       "      <td>108.989998</td>\n",
       "      <td>107.510002</td>\n",
       "      <td>108.250000</td>\n",
       "      <td>108.739998</td>\n",
       "      <td>23477600.0</td>\n",
       "    </tr>\n",
       "    <tr>\n",
       "      <th>1007</th>\n",
       "      <td>2018-09-07 00:00:00</td>\n",
       "      <td>108.720001</td>\n",
       "      <td>107.230003</td>\n",
       "      <td>108.230003</td>\n",
       "      <td>108.209999</td>\n",
       "      <td>22498600.0</td>\n",
       "    </tr>\n",
       "    <tr>\n",
       "      <th>1008</th>\n",
       "      <td>2018-09-10 00:00:00</td>\n",
       "      <td>109.639999</td>\n",
       "      <td>108.360001</td>\n",
       "      <td>108.839996</td>\n",
       "      <td>109.379997</td>\n",
       "      <td>20727900.0</td>\n",
       "    </tr>\n",
       "  </tbody>\n",
       "</table>\n",
       "</div>"
      ],
      "text/plain": [
       "                     Date  High Price   Low Price  Open Price  Close Price  \\\n",
       "1004  2018-09-04 00:00:00  111.959999  110.220001  110.849998   111.709999   \n",
       "1005  2018-09-05 00:00:00  111.419998  108.099998  111.010002   108.489998   \n",
       "1006  2018-09-06 00:00:00  108.989998  107.510002  108.250000   108.739998   \n",
       "1007  2018-09-07 00:00:00  108.720001  107.230003  108.230003   108.209999   \n",
       "1008  2018-09-10 00:00:00  109.639999  108.360001  108.839996   109.379997   \n",
       "\n",
       "          Volume  \n",
       "1004  22634600.0  \n",
       "1005  32872400.0  \n",
       "1006  23477600.0  \n",
       "1007  22498600.0  \n",
       "1008  20727900.0  "
      ]
     },
     "execution_count": 45,
     "metadata": {},
     "output_type": "execute_result"
    }
   ],
   "source": [
    "data = pd.read_csv('ms_14-18.csv', delimiter=',')\n",
    "data.head()\n",
    "data.tail()"
   ]
  },
  {
   "cell_type": "markdown",
   "metadata": {},
   "source": [
    "# 数据探索\n",
    "- Date 日期\n",
    "- High Price 当日最高价\n",
    "- Low Price 当日最低价\n",
    "- Open Price 开盘价\n",
    "- Close Price 收盘价\n",
    "- Volume 成交量"
   ]
  },
  {
   "cell_type": "markdown",
   "metadata": {},
   "source": [
    "# 特征工程"
   ]
  },
  {
   "cell_type": "markdown",
   "metadata": {},
   "source": [
    "## 特征选择"
   ]
  },
  {
   "cell_type": "code",
   "execution_count": 46,
   "metadata": {},
   "outputs": [],
   "source": [
    "features = [ \"High Price\", \"Low Price\" , \"Open Price\" ,\"Volume\"]"
   ]
  },
  {
   "cell_type": "markdown",
   "metadata": {},
   "source": [
    "## 划分特征数据集为 训练集 80% 和 测试集 20%"
   ]
  },
  {
   "cell_type": "code",
   "execution_count": 47,
   "metadata": {},
   "outputs": [],
   "source": [
    "X = np.array(data[features])\n",
    "y = np.array(data[\"Close Price\"])\n",
    "X_train,X_test,y_train,y_test = model_selection.train_test_split(X,y,test_size = 0.1)"
   ]
  },
  {
   "cell_type": "markdown",
   "metadata": {},
   "source": [
    "# 建立模型"
   ]
  },
  {
   "cell_type": "markdown",
   "metadata": {},
   "source": [
    "## 创建线性回归模型"
   ]
  },
  {
   "cell_type": "code",
   "execution_count": 48,
   "metadata": {},
   "outputs": [
    {
     "data": {
      "text/plain": [
       "LinearRegression(copy_X=True, fit_intercept=True, n_jobs=1, normalize=False)"
      ]
     },
     "execution_count": 48,
     "metadata": {},
     "output_type": "execute_result"
    }
   ],
   "source": [
    "lin_reg = linear_model.LinearRegression()\n",
    "# 用训练集训练模型\n",
    "lin_reg.fit(X_train, y_train)"
   ]
  },
  {
   "cell_type": "markdown",
   "metadata": {},
   "source": [
    "# 模型调参"
   ]
  },
  {
   "cell_type": "code",
   "execution_count": 49,
   "metadata": {},
   "outputs": [
    {
     "name": "stdout",
     "output_type": "stream",
     "text": [
      "线性回归得分 = 0.9997788519598834\n"
     ]
    }
   ],
   "source": [
    "accuracy = lin_reg.score(X_test,y_test)\n",
    "print(\"线性回归得分 = {}\".format(accuracy))"
   ]
  },
  {
   "cell_type": "markdown",
   "metadata": {},
   "source": [
    "# 模型使用"
   ]
  },
  {
   "cell_type": "markdown",
   "metadata": {},
   "source": [
    "## 使用训练得出的模型对测试集预测"
   ]
  },
  {
   "cell_type": "code",
   "execution_count": 60,
   "metadata": {},
   "outputs": [],
   "source": [
    "pred_close_price = lin_reg.predict(X_test)"
   ]
  },
  {
   "cell_type": "markdown",
   "metadata": {},
   "source": [
    "# 结果可视化"
   ]
  },
  {
   "cell_type": "code",
   "execution_count": 58,
   "metadata": {},
   "outputs": [
    {
     "data": {
      "text/plain": [
       "<Figure size 1080x432 with 0 Axes>"
      ]
     },
     "execution_count": 58,
     "metadata": {},
     "output_type": "execute_result"
    },
    {
     "data": {
      "text/plain": [
       "[<matplotlib.lines.Line2D at 0x2c821bc3518>]"
      ]
     },
     "execution_count": 58,
     "metadata": {},
     "output_type": "execute_result"
    },
    {
     "data": {
      "text/plain": [
       "[<matplotlib.lines.Line2D at 0x2c821b7db00>]"
      ]
     },
     "execution_count": 58,
     "metadata": {},
     "output_type": "execute_result"
    },
    {
     "data": {
      "text/plain": [
       "<matplotlib.legend.Legend at 0x2c821bc3a58>"
      ]
     },
     "execution_count": 58,
     "metadata": {},
     "output_type": "execute_result"
    },
    {
     "data": {
      "image/png": "[encoded data removed]",
      "text/plain": [
       "<Figure size 1080x432 with 1 Axes>"
      ]
     },
     "metadata": {},
     "output_type": "display_data"
    }
   ],
   "source": [
    "xpos = [i for i in range(len(y_test))]\n",
    "plt.figure(figsize=(15, 6))\n",
    "plt.plot(xpos, y_test, color='red', linewidth=1, label='close price')\n",
    "plt.plot(xpos, pred_close_price, color='green', linewidth=1, label='predict close price')\n",
    "plt.legend(loc='upper right')\n",
    "plt.show()"
   ]
  },
  {
   "cell_type": "markdown",
   "metadata": {},
   "source": [
    "# 结论分析"
   ]
  },
  {
   "cell_type": "code",
   "execution_count": 76,
   "metadata": {},
   "outputs": [
    {
     "data": {
      "text/html": [
       "<div>\n",
       "<style scoped>\n",
       "    .dataframe tbody tr th:only-of-type {\n",
       "        vertical-align: middle;\n",
       "    }\n",
       "\n",
       "    .dataframe tbody tr th {\n",
       "        vertical-align: top;\n",
       "    }\n",
       "\n",
       "    .dataframe thead th {\n",
       "        text-align: right;\n",
       "    }\n",
       "</style>\n",
       "<table border=\"1\" class=\"dataframe\">\n",
       "  <thead>\n",
       "    <tr style=\"text-align: right;\">\n",
       "      <th></th>\n",
       "      <th>Date</th>\n",
       "      <th>Open</th>\n",
       "      <th>High</th>\n",
       "      <th>Low</th>\n",
       "      <th>Close</th>\n",
       "      <th>Adj Close</th>\n",
       "      <th>Volume</th>\n",
       "      <th>Stock</th>\n",
       "      <th>SMA_50</th>\n",
       "      <th>T_SMA_50</th>\n",
       "      <th>...</th>\n",
       "      <th>EMA_21</th>\n",
       "      <th>T_EMA_21</th>\n",
       "      <th>EMA_50</th>\n",
       "      <th>T_EMA_50</th>\n",
       "      <th>EMA_200</th>\n",
       "      <th>T_EMA_200</th>\n",
       "      <th>MACD</th>\n",
       "      <th>SIGNAL</th>\n",
       "      <th>HIST</th>\n",
       "      <th>RSI</th>\n",
       "    </tr>\n",
       "  </thead>\n",
       "  <tbody>\n",
       "    <tr>\n",
       "      <th>0</th>\n",
       "      <td>2019-06-03</td>\n",
       "      <td>123.849998</td>\n",
       "      <td>124.370003</td>\n",
       "      <td>119.010002</td>\n",
       "      <td>119.839996</td>\n",
       "      <td>115.725883</td>\n",
       "      <td>37983600</td>\n",
       "      <td>MSFT</td>\n",
       "      <td>NaN</td>\n",
       "      <td>False</td>\n",
       "      <td>...</td>\n",
       "      <td>120.0</td>\n",
       "      <td>False</td>\n",
       "      <td>120.0</td>\n",
       "      <td>False</td>\n",
       "      <td>120.0</td>\n",
       "      <td>False</td>\n",
       "      <td>0.000000</td>\n",
       "      <td>0.000000</td>\n",
       "      <td>0.000000</td>\n",
       "      <td>NaN</td>\n",
       "    </tr>\n",
       "    <tr>\n",
       "      <th>1</th>\n",
       "      <td>2019-06-04</td>\n",
       "      <td>121.279999</td>\n",
       "      <td>123.279999</td>\n",
       "      <td>120.650002</td>\n",
       "      <td>123.160004</td>\n",
       "      <td>118.931908</td>\n",
       "      <td>29382600</td>\n",
       "      <td>MSFT</td>\n",
       "      <td>NaN</td>\n",
       "      <td>False</td>\n",
       "      <td>...</td>\n",
       "      <td>120.0</td>\n",
       "      <td>True</td>\n",
       "      <td>120.0</td>\n",
       "      <td>True</td>\n",
       "      <td>120.0</td>\n",
       "      <td>True</td>\n",
       "      <td>0.264844</td>\n",
       "      <td>0.052969</td>\n",
       "      <td>0.211875</td>\n",
       "      <td>NaN</td>\n",
       "    </tr>\n",
       "    <tr>\n",
       "      <th>2</th>\n",
       "      <td>2019-06-05</td>\n",
       "      <td>124.949997</td>\n",
       "      <td>125.870003</td>\n",
       "      <td>124.209999</td>\n",
       "      <td>125.830002</td>\n",
       "      <td>121.510231</td>\n",
       "      <td>24926100</td>\n",
       "      <td>MSFT</td>\n",
       "      <td>NaN</td>\n",
       "      <td>False</td>\n",
       "      <td>...</td>\n",
       "      <td>121.0</td>\n",
       "      <td>True</td>\n",
       "      <td>120.0</td>\n",
       "      <td>True</td>\n",
       "      <td>120.0</td>\n",
       "      <td>True</td>\n",
       "      <td>0.682316</td>\n",
       "      <td>0.178838</td>\n",
       "      <td>0.503478</td>\n",
       "      <td>NaN</td>\n",
       "    </tr>\n",
       "    <tr>\n",
       "      <th>3</th>\n",
       "      <td>2019-06-06</td>\n",
       "      <td>126.440002</td>\n",
       "      <td>127.970001</td>\n",
       "      <td>125.599998</td>\n",
       "      <td>127.820000</td>\n",
       "      <td>123.431931</td>\n",
       "      <td>21459000</td>\n",
       "      <td>MSFT</td>\n",
       "      <td>NaN</td>\n",
       "      <td>False</td>\n",
       "      <td>...</td>\n",
       "      <td>121.0</td>\n",
       "      <td>True</td>\n",
       "      <td>120.0</td>\n",
       "      <td>True</td>\n",
       "      <td>120.0</td>\n",
       "      <td>True</td>\n",
       "      <td>1.160366</td>\n",
       "      <td>0.375144</td>\n",
       "      <td>0.785222</td>\n",
       "      <td>NaN</td>\n",
       "    </tr>\n",
       "    <tr>\n",
       "      <th>4</th>\n",
       "      <td>2019-06-07</td>\n",
       "      <td>129.190002</td>\n",
       "      <td>132.250000</td>\n",
       "      <td>128.259995</td>\n",
       "      <td>131.399994</td>\n",
       "      <td>126.889038</td>\n",
       "      <td>33885600</td>\n",
       "      <td>MSFT</td>\n",
       "      <td>NaN</td>\n",
       "      <td>False</td>\n",
       "      <td>...</td>\n",
       "      <td>122.0</td>\n",
       "      <td>True</td>\n",
       "      <td>121.0</td>\n",
       "      <td>True</td>\n",
       "      <td>120.0</td>\n",
       "      <td>True</td>\n",
       "      <td>1.807266</td>\n",
       "      <td>0.661568</td>\n",
       "      <td>1.145698</td>\n",
       "      <td>NaN</td>\n",
       "    </tr>\n",
       "  </tbody>\n",
       "</table>\n",
       "<p>5 rows × 29 columns</p>\n",
       "</div>"
      ],
      "text/plain": [
       "         Date        Open        High         Low       Close   Adj Close  \\\n",
       "0  2019-06-03  123.849998  124.370003  119.010002  119.839996  115.725883   \n",
       "1  2019-06-04  121.279999  123.279999  120.650002  123.160004  118.931908   \n",
       "2  2019-06-05  124.949997  125.870003  124.209999  125.830002  121.510231   \n",
       "3  2019-06-06  126.440002  127.970001  125.599998  127.820000  123.431931   \n",
       "4  2019-06-07  129.190002  132.250000  128.259995  131.399994  126.889038   \n",
       "\n",
       "     Volume Stock  SMA_50  T_SMA_50 ...   EMA_21  T_EMA_21  EMA_50  T_EMA_50  \\\n",
       "0  37983600  MSFT     NaN     False ...    120.0     False   120.0     False   \n",
       "1  29382600  MSFT     NaN     False ...    120.0      True   120.0      True   \n",
       "2  24926100  MSFT     NaN     False ...    121.0      True   120.0      True   \n",
       "3  21459000  MSFT     NaN     False ...    121.0      True   120.0      True   \n",
       "4  33885600  MSFT     NaN     False ...    122.0      True   121.0      True   \n",
       "\n",
       "   EMA_200  T_EMA_200      MACD    SIGNAL      HIST  RSI  \n",
       "0    120.0      False  0.000000  0.000000  0.000000  NaN  \n",
       "1    120.0       True  0.264844  0.052969  0.211875  NaN  \n",
       "2    120.0       True  0.682316  0.178838  0.503478  NaN  \n",
       "3    120.0       True  1.160366  0.375144  0.785222  NaN  \n",
       "4    120.0       True  1.807266  0.661568  1.145698  NaN  \n",
       "\n",
       "[5 rows x 29 columns]"
      ]
     },
     "execution_count": 76,
     "metadata": {},
     "output_type": "execute_result"
    },
    {
     "data": {
      "text/html": [
       "<div>\n",
       "<style scoped>\n",
       "    .dataframe tbody tr th:only-of-type {\n",
       "        vertical-align: middle;\n",
       "    }\n",
       "\n",
       "    .dataframe tbody tr th {\n",
       "        vertical-align: top;\n",
       "    }\n",
       "\n",
       "    .dataframe thead th {\n",
       "        text-align: right;\n",
       "    }\n",
       "</style>\n",
       "<table border=\"1\" class=\"dataframe\">\n",
       "  <thead>\n",
       "    <tr style=\"text-align: right;\">\n",
       "      <th></th>\n",
       "      <th>Date</th>\n",
       "      <th>Open</th>\n",
       "      <th>High</th>\n",
       "      <th>Low</th>\n",
       "      <th>Close</th>\n",
       "      <th>Adj Close</th>\n",
       "      <th>Volume</th>\n",
       "      <th>Stock</th>\n",
       "      <th>SMA_50</th>\n",
       "      <th>T_SMA_50</th>\n",
       "      <th>...</th>\n",
       "      <th>EMA_21</th>\n",
       "      <th>T_EMA_21</th>\n",
       "      <th>EMA_50</th>\n",
       "      <th>T_EMA_50</th>\n",
       "      <th>EMA_200</th>\n",
       "      <th>T_EMA_200</th>\n",
       "      <th>MACD</th>\n",
       "      <th>SIGNAL</th>\n",
       "      <th>HIST</th>\n",
       "      <th>RSI</th>\n",
       "    </tr>\n",
       "  </thead>\n",
       "  <tbody>\n",
       "    <tr>\n",
       "      <th>874</th>\n",
       "      <td>2022-11-17</td>\n",
       "      <td>237.779999</td>\n",
       "      <td>243.250000</td>\n",
       "      <td>237.630005</td>\n",
       "      <td>241.679993</td>\n",
       "      <td>241.679993</td>\n",
       "      <td>23123500</td>\n",
       "      <td>MSFT</td>\n",
       "      <td>238.31</td>\n",
       "      <td>True</td>\n",
       "      <td>...</td>\n",
       "      <td>236.0</td>\n",
       "      <td>True</td>\n",
       "      <td>241.0</td>\n",
       "      <td>True</td>\n",
       "      <td>263.0</td>\n",
       "      <td>False</td>\n",
       "      <td>0.704872</td>\n",
       "      <td>-1.525356</td>\n",
       "      <td>2.230228</td>\n",
       "      <td>54.047692</td>\n",
       "    </tr>\n",
       "    <tr>\n",
       "      <th>875</th>\n",
       "      <td>2022-11-18</td>\n",
       "      <td>243.509995</td>\n",
       "      <td>243.740005</td>\n",
       "      <td>239.029999</td>\n",
       "      <td>241.220001</td>\n",
       "      <td>241.220001</td>\n",
       "      <td>27591800</td>\n",
       "      <td>MSFT</td>\n",
       "      <td>237.85</td>\n",
       "      <td>True</td>\n",
       "      <td>...</td>\n",
       "      <td>237.0</td>\n",
       "      <td>True</td>\n",
       "      <td>241.0</td>\n",
       "      <td>True</td>\n",
       "      <td>262.0</td>\n",
       "      <td>False</td>\n",
       "      <td>0.976969</td>\n",
       "      <td>-1.024891</td>\n",
       "      <td>2.001860</td>\n",
       "      <td>53.657188</td>\n",
       "    </tr>\n",
       "    <tr>\n",
       "      <th>876</th>\n",
       "      <td>2022-11-21</td>\n",
       "      <td>241.429993</td>\n",
       "      <td>244.669998</td>\n",
       "      <td>241.190002</td>\n",
       "      <td>242.050003</td>\n",
       "      <td>242.050003</td>\n",
       "      <td>26394700</td>\n",
       "      <td>MSFT</td>\n",
       "      <td>237.36</td>\n",
       "      <td>True</td>\n",
       "      <td>...</td>\n",
       "      <td>237.0</td>\n",
       "      <td>True</td>\n",
       "      <td>241.0</td>\n",
       "      <td>True</td>\n",
       "      <td>262.0</td>\n",
       "      <td>False</td>\n",
       "      <td>1.245229</td>\n",
       "      <td>-0.570867</td>\n",
       "      <td>1.816096</td>\n",
       "      <td>54.298826</td>\n",
       "    </tr>\n",
       "    <tr>\n",
       "      <th>877</th>\n",
       "      <td>2022-11-22</td>\n",
       "      <td>243.589996</td>\n",
       "      <td>245.309998</td>\n",
       "      <td>240.710007</td>\n",
       "      <td>245.029999</td>\n",
       "      <td>245.029999</td>\n",
       "      <td>19665700</td>\n",
       "      <td>MSFT</td>\n",
       "      <td>237.22</td>\n",
       "      <td>True</td>\n",
       "      <td>...</td>\n",
       "      <td>238.0</td>\n",
       "      <td>True</td>\n",
       "      <td>241.0</td>\n",
       "      <td>True</td>\n",
       "      <td>262.0</td>\n",
       "      <td>False</td>\n",
       "      <td>1.678933</td>\n",
       "      <td>-0.120907</td>\n",
       "      <td>1.799840</td>\n",
       "      <td>56.621068</td>\n",
       "    </tr>\n",
       "    <tr>\n",
       "      <th>878</th>\n",
       "      <td>2022-11-23</td>\n",
       "      <td>245.104996</td>\n",
       "      <td>248.270004</td>\n",
       "      <td>244.270004</td>\n",
       "      <td>247.580002</td>\n",
       "      <td>247.580002</td>\n",
       "      <td>17718044</td>\n",
       "      <td>MSFT</td>\n",
       "      <td>237.12</td>\n",
       "      <td>True</td>\n",
       "      <td>...</td>\n",
       "      <td>239.0</td>\n",
       "      <td>True</td>\n",
       "      <td>241.0</td>\n",
       "      <td>True</td>\n",
       "      <td>262.0</td>\n",
       "      <td>False</td>\n",
       "      <td>2.203016</td>\n",
       "      <td>0.343878</td>\n",
       "      <td>1.859139</td>\n",
       "      <td>58.561480</td>\n",
       "    </tr>\n",
       "  </tbody>\n",
       "</table>\n",
       "<p>5 rows × 29 columns</p>\n",
       "</div>"
      ],
      "text/plain": [
       "           Date        Open        High         Low       Close   Adj Close  \\\n",
       "874  2022-11-17  237.779999  243.250000  237.630005  241.679993  241.679993   \n",
       "875  2022-11-18  243.509995  243.740005  239.029999  241.220001  241.220001   \n",
       "876  2022-11-21  241.429993  244.669998  241.190002  242.050003  242.050003   \n",
       "877  2022-11-22  243.589996  245.309998  240.710007  245.029999  245.029999   \n",
       "878  2022-11-23  245.104996  248.270004  244.270004  247.580002  247.580002   \n",
       "\n",
       "       Volume Stock  SMA_50  T_SMA_50    ...      EMA_21  T_EMA_21  EMA_50  \\\n",
       "874  23123500  MSFT  238.31      True    ...       236.0      True   241.0   \n",
       "875  27591800  MSFT  237.85      True    ...       237.0      True   241.0   \n",
       "876  26394700  MSFT  237.36      True    ...       237.0      True   241.0   \n",
       "877  19665700  MSFT  237.22      True    ...       238.0      True   241.0   \n",
       "878  17718044  MSFT  237.12      True    ...       239.0      True   241.0   \n",
       "\n",
       "     T_EMA_50  EMA_200  T_EMA_200      MACD    SIGNAL      HIST        RSI  \n",
       "874      True    263.0      False  0.704872 -1.525356  2.230228  54.047692  \n",
       "875      True    262.0      False  0.976969 -1.024891  2.001860  53.657188  \n",
       "876      True    262.0      False  1.245229 -0.570867  1.816096  54.298826  \n",
       "877      True    262.0      False  1.678933 -0.120907  1.799840  56.621068  \n",
       "878      True    262.0      False  2.203016  0.343878  1.859139  58.561480  \n",
       "\n",
       "[5 rows x 29 columns]"
      ]
     },
     "execution_count": 76,
     "metadata": {},
     "output_type": "execute_result"
    },
    {
     "data": {
      "text/plain": [
       "<Figure size 1080x432 with 0 Axes>"
      ]
     },
     "execution_count": 76,
     "metadata": {},
     "output_type": "execute_result"
    },
    {
     "data": {
      "text/plain": [
       "[<matplotlib.lines.Line2D at 0x2c822533b70>]"
      ]
     },
     "execution_count": 76,
     "metadata": {},
     "output_type": "execute_result"
    },
    {
     "data": {
      "text/plain": [
       "[<matplotlib.lines.Line2D at 0x2c8224fb8d0>]"
      ]
     },
     "execution_count": 76,
     "metadata": {},
     "output_type": "execute_result"
    },
    {
     "data": {
      "text/plain": [
       "<matplotlib.legend.Legend at 0x2c822490c88>"
      ]
     },
     "execution_count": 76,
     "metadata": {},
     "output_type": "execute_result"
    },
    {
     "data": {
      "image/png": "[encoded data removed]",
      "text/plain": [
       "<Figure size 1080x432 with 1 Axes>"
      ]
     },
     "metadata": {},
     "output_type": "display_data"
    }
   ],
   "source": [
    "data = pd.read_csv('ms_19-22.csv', delimiter=',')\n",
    "features = [ \"High\", \"Low\" , \"Open\" ,\"Volume\"]\n",
    "X = np.array(data[features])\n",
    "y = np.array(data[\"Close\"])\n",
    "data.head()\n",
    "data.tail()\n",
    "test = lin_reg.predict(X)\n",
    "xpos = [i for i in range(len(test))]\n",
    "plt.figure(figsize=(15, 6))\n",
    "plt.plot(xpos, y, color='red', linewidth=1, label='close price')\n",
    "plt.plot(xpos, test, color='green', linewidth=1, label='predict close price')\n",
    "plt.legend(loc='upper right')\n",
    "plt.show()"
   ]
  },
  {
   "cell_type": "code",
   "execution_count": 78,
   "metadata": {},
   "outputs": [
    {
     "data": {
      "text/plain": [
       "0    119.839996\n",
       "1    123.160004\n",
       "2    125.830002\n",
       "3    127.820000\n",
       "4    131.399994\n",
       "Name: Close, dtype: float64"
      ]
     },
     "execution_count": 78,
     "metadata": {},
     "output_type": "execute_result"
    },
    {
     "data": {
      "text/plain": [
       "0    120.559920\n",
       "1    122.492557\n",
       "2    125.183373\n",
       "3    127.109241\n",
       "4    131.053478\n",
       "Name: test, dtype: float64"
      ]
     },
     "execution_count": 78,
     "metadata": {},
     "output_type": "execute_result"
    }
   ],
   "source": [
    "data['test'] = pd.Series(test)\n",
    "data['Close'].head()\n",
    "data['test'].head()"
   ]
  },
  {
   "cell_type": "code",
   "execution_count": null,
   "metadata": {},
   "outputs": [],
   "source": []
  }
 ],
 "metadata": {
  "kernelspec": {
   "display_name": "Python 3",
   "language": "python",
   "name": "python3"
  },
  "language_info": {
   "codemirror_mode": {
    "name": "ipython",
    "version": 3
   },
   "file_extension": ".py",
   "mimetype": "text/x-python",
   "name": "python",
   "nbconvert_exporter": "python",
   "pygments_lexer": "ipython3",
   "version": "3.6.5"
  }
 },
 "nbformat": 4,
 "nbformat_minor": 2
}
